{
 "cells": [
  {
   "cell_type": "code",
   "execution_count": 1,
   "id": "532f3c82",
   "metadata": {},
   "outputs": [],
   "source": [
    "import pandas\n",
    "from pandas import ExcelWriter"
   ]
  },
  {
   "cell_type": "code",
   "execution_count": 2,
   "id": "83123033",
   "metadata": {},
   "outputs": [],
   "source": [
    "data = {\n",
    "'FirstName':[\"Satvik\", \"Avinash\", \"Lahri\"],\n",
    "'LastName':[\"Shah\", \"Kati\", \"Rath\"],\n",
    "'Email':[\"satshah@example.com\", \"avinashK@example.com\", \"lahri.rath@example.com\"],\n",
    "'PhoneNumber':[\"4537829158\", \"4892184058\", \"4528727830\"]\n",
    "}"
   ]
  },
  {
   "cell_type": "code",
   "execution_count": 3,
   "id": "f990dc69",
   "metadata": {},
   "outputs": [],
   "source": [
    "\n",
    "dataframe = pandas.DataFrame(data)"
   ]
  },
  {
   "cell_type": "code",
   "execution_count": 4,
   "id": "1a9a34d1",
   "metadata": {},
   "outputs": [
    {
     "name": "stdout",
     "output_type": "stream",
     "text": [
      "  FirstName LastName                   Email PhoneNumber\n",
      "0    Satvik     Shah     satshah@example.com  4537829158\n",
      "1   Avinash     Kati    avinashK@example.com  4892184058\n",
      "2     Lahri     Rath  lahri.rath@example.com  4528727830\n"
     ]
    }
   ],
   "source": [
    "\n",
    "print(dataframe)"
   ]
  },
  {
   "cell_type": "code",
   "execution_count": 5,
   "id": "d2024436",
   "metadata": {},
   "outputs": [],
   "source": [
    "writer = ExcelWriter('sample.xlsx')\n",
    "dataframe.to_excel(writer, 'Sheet1', index = False)"
   ]
  },
  {
   "cell_type": "code",
   "execution_count": 6,
   "id": "6b5fb3de",
   "metadata": {},
   "outputs": [],
   "source": [
    "writer.save()"
   ]
  },
  {
   "cell_type": "code",
   "execution_count": null,
   "id": "d88c1fde",
   "metadata": {},
   "outputs": [],
   "source": []
  }
 ],
 "metadata": {
  "kernelspec": {
   "display_name": "Python 3 (ipykernel)",
   "language": "python",
   "name": "python3"
  },
  "language_info": {
   "codemirror_mode": {
    "name": "ipython",
    "version": 3
   },
   "file_extension": ".py",
   "mimetype": "text/x-python",
   "name": "python",
   "nbconvert_exporter": "python",
   "pygments_lexer": "ipython3",
   "version": "3.9.12"
  }
 },
 "nbformat": 4,
 "nbformat_minor": 5
}
