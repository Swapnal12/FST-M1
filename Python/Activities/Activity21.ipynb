{
 "cells": [
  {
   "cell_type": "code",
   "execution_count": 3,
   "id": "3574b5e5",
   "metadata": {},
   "outputs": [],
   "source": [
    "\n",
    "import pytest"
   ]
  },
  {
   "cell_type": "code",
   "execution_count": 4,
   "id": "c326f47c",
   "metadata": {},
   "outputs": [],
   "source": [
    "def test_addition():\n",
    "\n",
    "  num1 = 10\n",
    "  num2 = 15\n",
    "    \n",
    "\n",
    "  sum = num1 + num2\n",
    " \n",
    "\n",
    "  assert sum == 25"
   ]
  },
  {
   "cell_type": "code",
   "execution_count": 5,
   "id": "9787c259",
   "metadata": {},
   "outputs": [],
   "source": [
    "\t\n",
    "def test_subtraction():\n",
    "  \n",
    "\t# Initialize two numbers\n",
    "\tnum1 = 50\n",
    "\tnum2 = 35\n",
    "    \n",
    "\t# Subtract them\n",
    "\tdiff = num1 - num2\n",
    " \n",
    "\t# Assertion\n",
    "\tassert diff == 15"
   ]
  },
  {
   "cell_type": "code",
   "execution_count": 6,
   "id": "147cc741",
   "metadata": {},
   "outputs": [],
   "source": [
    "\t\n",
    "# Multiplication test\n",
    "def test_multiplication():\n",
    "  \n",
    "\t# Initialize two numbers\n",
    "\tnum1 = 5\n",
    "\tnum2 = 20\n",
    "    \n",
    "\t# Multiply them\n",
    "\tprod = num1 * num2\n",
    " \n",
    "\t# Assertion\n",
    "\tassert prod == 100"
   ]
  },
  {
   "cell_type": "code",
   "execution_count": 7,
   "id": "a6aa4e37",
   "metadata": {},
   "outputs": [],
   "source": [
    "\t\n",
    "def test_division():\n",
    "  \n",
    "\t# Initialize two numbers\n",
    "\tnum1 = 100\n",
    "\tnum2 = 5\n",
    "    \n",
    "\t# Divide them\n",
    "\tquot = num1 / num2\n",
    " \n",
    "\t# Assertion\n",
    "\tassert quot == 20"
   ]
  },
  {
   "cell_type": "code",
   "execution_count": null,
   "id": "1be63ae8",
   "metadata": {},
   "outputs": [],
   "source": []
  }
 ],
 "metadata": {
  "kernelspec": {
   "display_name": "Python 3 (ipykernel)",
   "language": "python",
   "name": "python3"
  },
  "language_info": {
   "codemirror_mode": {
    "name": "ipython",
    "version": 3
   },
   "file_extension": ".py",
   "mimetype": "text/x-python",
   "name": "python",
   "nbconvert_exporter": "python",
   "pygments_lexer": "ipython3",
   "version": "3.9.12"
  }
 },
 "nbformat": 4,
 "nbformat_minor": 5
}
