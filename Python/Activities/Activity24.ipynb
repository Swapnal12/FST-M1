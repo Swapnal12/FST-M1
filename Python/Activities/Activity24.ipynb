{
 "cells": [
  {
   "cell_type": "code",
   "execution_count": 1,
   "id": "5bab9fb0",
   "metadata": {},
   "outputs": [],
   "source": [
    "import pytest\n",
    "\n",
    "# Define a fixture for the wallet amount\n",
    "@pytest.fixture\n",
    "def wallet_amount():\n",
    "   amount = 0\n",
    "   return amount\n",
    "\n",
    "# Set up the paremeterized test method\n",
    "@pytest.mark.parametrize(\"earned, spent, expected\", [ (30, 10, 20), (20, 2, 18), ])\n",
    "def test_transactions(wallet_amount, earned, spent, expected):\n",
    "\t\n",
    "    # Add money to your wallet\n",
    "    wallet_amount += earned\n",
    "\n",
    "    # Subtract amount from wallet\n",
    "    wallet_amount -= spent\n",
    "\n",
    "    # Assertion\n",
    "    assert wallet_amount == expected"
   ]
  },
  {
   "cell_type": "code",
   "execution_count": null,
   "id": "5dedef93",
   "metadata": {},
   "outputs": [],
   "source": []
  }
 ],
 "metadata": {
  "kernelspec": {
   "display_name": "Python 3 (ipykernel)",
   "language": "python",
   "name": "python3"
  },
  "language_info": {
   "codemirror_mode": {
    "name": "ipython",
    "version": 3
   },
   "file_extension": ".py",
   "mimetype": "text/x-python",
   "name": "python",
   "nbconvert_exporter": "python",
   "pygments_lexer": "ipython3",
   "version": "3.9.12"
  }
 },
 "nbformat": 4,
 "nbformat_minor": 5
}
