{
 "cells": [
  {
   "cell_type": "code",
   "execution_count": 1,
   "id": "28385f06",
   "metadata": {},
   "outputs": [],
   "source": [
    "import pandas"
   ]
  },
  {
   "cell_type": "code",
   "execution_count": 2,
   "id": "29fd6d5a",
   "metadata": {},
   "outputs": [],
   "source": [
    "dataframe = pandas.read_csv(\"sample.csv\")"
   ]
  },
  {
   "cell_type": "code",
   "execution_count": 3,
   "id": "7d7fc259",
   "metadata": {},
   "outputs": [
    {
     "name": "stdout",
     "output_type": "stream",
     "text": [
      "Full Data: \n",
      "  Usernames Passwords\n",
      "0     admin  password\n",
      "1   Charles   Charl13\n",
      "2      Deku  AllMight\n"
     ]
    }
   ],
   "source": [
    "\n",
    "print(\"Full Data: \")\n",
    "print(dataframe)"
   ]
  },
  {
   "cell_type": "code",
   "execution_count": 4,
   "id": "a84bb4f2",
   "metadata": {},
   "outputs": [
    {
     "name": "stdout",
     "output_type": "stream",
     "text": [
      "Usernames:\n",
      "0      admin\n",
      "1    Charles\n",
      "2       Deku\n",
      "Name: Usernames, dtype: object\n"
     ]
    }
   ],
   "source": [
    "\n",
    "print(\"Usernames:\")\n",
    "print(dataframe[\"Usernames\"])"
   ]
  },
  {
   "cell_type": "code",
   "execution_count": 5,
   "id": "1bb26130",
   "metadata": {},
   "outputs": [
    {
     "name": "stdout",
     "output_type": "stream",
     "text": [
      "Username:  Charles  |  Password:  Charl13\n"
     ]
    }
   ],
   "source": [
    "print(\"Username: \", dataframe[\"Usernames\"][1], \" | \", \"Password: \", dataframe[\"Passwords\"][1])"
   ]
  },
  {
   "cell_type": "code",
   "execution_count": 6,
   "id": "fa66e074",
   "metadata": {},
   "outputs": [
    {
     "name": "stdout",
     "output_type": "stream",
     "text": [
      "Data sorted in ascending Usernames:\n",
      "  Usernames Passwords\n",
      "1   Charles   Charl13\n",
      "2      Deku  AllMight\n",
      "0     admin  password\n"
     ]
    }
   ],
   "source": [
    "print(\"Data sorted in ascending Usernames:\")\n",
    "print(dataframe.sort_values('Usernames'))"
   ]
  },
  {
   "cell_type": "code",
   "execution_count": 7,
   "id": "9a9c5857",
   "metadata": {},
   "outputs": [
    {
     "name": "stdout",
     "output_type": "stream",
     "text": [
      "Data sorted in descending Passwords:\n",
      "  Usernames Passwords\n",
      "0     admin  password\n",
      "1   Charles   Charl13\n",
      "2      Deku  AllMight\n"
     ]
    }
   ],
   "source": [
    "print(\"Data sorted in descending Passwords:\")\n",
    "print(dataframe.sort_values('Passwords', ascending=False))"
   ]
  },
  {
   "cell_type": "code",
   "execution_count": null,
   "id": "abc55689",
   "metadata": {},
   "outputs": [],
   "source": []
  },
  {
   "cell_type": "code",
   "execution_count": null,
   "id": "95bb3bb7",
   "metadata": {},
   "outputs": [],
   "source": []
  }
 ],
 "metadata": {
  "kernelspec": {
   "display_name": "Python 3 (ipykernel)",
   "language": "python",
   "name": "python3"
  },
  "language_info": {
   "codemirror_mode": {
    "name": "ipython",
    "version": 3
   },
   "file_extension": ".py",
   "mimetype": "text/x-python",
   "name": "python",
   "nbconvert_exporter": "python",
   "pygments_lexer": "ipython3",
   "version": "3.9.12"
  }
 },
 "nbformat": 4,
 "nbformat_minor": 5
}
