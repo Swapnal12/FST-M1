{
 "cells": [
  {
   "cell_type": "code",
   "execution_count": 1,
   "id": "a72c41ed",
   "metadata": {},
   "outputs": [],
   "source": [
    "\n",
    "import pandas"
   ]
  },
  {
   "cell_type": "code",
   "execution_count": 2,
   "id": "8f60d1f7",
   "metadata": {},
   "outputs": [],
   "source": [
    "data = {\n",
    "  \"Usernames\": [\"admin\", \"Charles\", \"Deku\"],\n",
    "  \"Passwords\": [\"password\", \"Charl13\", \"AllMight\"]\n",
    "}"
   ]
  },
  {
   "cell_type": "code",
   "execution_count": 3,
   "id": "7fb018a7",
   "metadata": {},
   "outputs": [],
   "source": [
    "dataframe = pandas.DataFrame(data)"
   ]
  },
  {
   "cell_type": "code",
   "execution_count": 4,
   "id": "0b2f747a",
   "metadata": {},
   "outputs": [
    {
     "name": "stdout",
     "output_type": "stream",
     "text": [
      "  Usernames Passwords\n",
      "0     admin  password\n",
      "1   Charles   Charl13\n",
      "2      Deku  AllMight\n"
     ]
    }
   ],
   "source": [
    "\n",
    "print(dataframe)"
   ]
  },
  {
   "cell_type": "code",
   "execution_count": 5,
   "id": "0117877d",
   "metadata": {},
   "outputs": [],
   "source": [
    "\n",
    "dataframe.to_csv(\"sample.csv\", index=False)"
   ]
  },
  {
   "cell_type": "code",
   "execution_count": null,
   "id": "7f5af3b1",
   "metadata": {},
   "outputs": [],
   "source": []
  }
 ],
 "metadata": {
  "kernelspec": {
   "display_name": "Python 3 (ipykernel)",
   "language": "python",
   "name": "python3"
  },
  "language_info": {
   "codemirror_mode": {
    "name": "ipython",
    "version": 3
   },
   "file_extension": ".py",
   "mimetype": "text/x-python",
   "name": "python",
   "nbconvert_exporter": "python",
   "pygments_lexer": "ipython3",
   "version": "3.9.12"
  }
 },
 "nbformat": 4,
 "nbformat_minor": 5
}
