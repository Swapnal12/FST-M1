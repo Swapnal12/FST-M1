{
 "cells": [
  {
   "cell_type": "code",
   "execution_count": 1,
   "id": "6e6ada46",
   "metadata": {},
   "outputs": [],
   "source": [
    "\n",
    "import pandas"
   ]
  },
  {
   "cell_type": "code",
   "execution_count": 2,
   "id": "341c2e6e",
   "metadata": {},
   "outputs": [],
   "source": [
    "dataframe = pandas.read_excel('sample.xlsx')"
   ]
  },
  {
   "cell_type": "code",
   "execution_count": 3,
   "id": "8f24094a",
   "metadata": {},
   "outputs": [
    {
     "name": "stdout",
     "output_type": "stream",
     "text": [
      "  FirstName LastName                   Email  PhoneNumber\n",
      "0    Satvik     Shah     satshah@example.com   4537829158\n",
      "1   Avinash     Kati    avinashK@example.com   4892184058\n",
      "2     Lahri     Rath  lahri.rath@example.com   4528727830\n"
     ]
    }
   ],
   "source": [
    "print(dataframe)"
   ]
  },
  {
   "cell_type": "code",
   "execution_count": 4,
   "id": "15839ff9",
   "metadata": {},
   "outputs": [
    {
     "name": "stdout",
     "output_type": "stream",
     "text": [
      "Number of rows and columns: (3, 4)\n"
     ]
    }
   ],
   "source": [
    "\n",
    "print(\"Number of rows and columns:\", dataframe.shape)"
   ]
  },
  {
   "cell_type": "code",
   "execution_count": 5,
   "id": "1f49c9fc",
   "metadata": {},
   "outputs": [
    {
     "name": "stdout",
     "output_type": "stream",
     "text": [
      "Emails:\n",
      "0       satshah@example.com\n",
      "1      avinashK@example.com\n",
      "2    lahri.rath@example.com\n",
      "Name: Email, dtype: object\n"
     ]
    }
   ],
   "source": [
    "print(\"Emails:\")\n",
    "print(dataframe['Email'])"
   ]
  },
  {
   "cell_type": "code",
   "execution_count": 6,
   "id": "d368ccbd",
   "metadata": {},
   "outputs": [
    {
     "name": "stdout",
     "output_type": "stream",
     "text": [
      "Sorted data:\n",
      "  FirstName LastName                   Email  PhoneNumber\n",
      "1   Avinash     Kati    avinashK@example.com   4892184058\n",
      "2     Lahri     Rath  lahri.rath@example.com   4528727830\n",
      "0    Satvik     Shah     satshah@example.com   4537829158\n"
     ]
    }
   ],
   "source": [
    "print(\"Sorted data:\")\n",
    "print(dataframe.sort_values('FirstName'))"
   ]
  },
  {
   "cell_type": "code",
   "execution_count": null,
   "id": "8e9ec707",
   "metadata": {},
   "outputs": [],
   "source": []
  }
 ],
 "metadata": {
  "kernelspec": {
   "display_name": "Python 3 (ipykernel)",
   "language": "python",
   "name": "python3"
  },
  "language_info": {
   "codemirror_mode": {
    "name": "ipython",
    "version": 3
   },
   "file_extension": ".py",
   "mimetype": "text/x-python",
   "name": "python",
   "nbconvert_exporter": "python",
   "pygments_lexer": "ipython3",
   "version": "3.9.12"
  }
 },
 "nbformat": 4,
 "nbformat_minor": 5
}
