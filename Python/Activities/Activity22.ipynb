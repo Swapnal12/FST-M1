{
 "cells": [
  {
   "cell_type": "code",
   "execution_count": 2,
   "id": "d3a29a38",
   "metadata": {},
   "outputs": [],
   "source": [
    "import pytest\n",
    "\n",
    "# Additon test\n",
    "def test_addition():\n",
    "\t\n",
    "    # Initialize two numbers\n",
    "\tnum1 = 10\n",
    "\tnum2 = 15\n",
    "    \n",
    "\t# Add them\n",
    "\tsum = num1 + num2\n",
    "\n",
    "\t# Assertion\n",
    "\tassert sum == 25\n",
    "\n",
    "# Subtraction test\n",
    "def test_subtraction():\n",
    "  \n",
    "\t# Initialize two numbers\n",
    "\tnum1 = 50\n",
    "\tnum2 = 35\n",
    "    \n",
    "\t# Subtract them\n",
    "\tdiff = num1 - num2\n",
    "\n",
    "\t# Assertion\n",
    "\tassert diff == 15\n",
    "\n",
    "# Multiplication test\n",
    "@pytest.mark.activity\n",
    "def test_multiplication():\n",
    "  \n",
    "\t# Initialize two numbers\n",
    "\tnum1 = 5\n",
    "\tnum2 = 20\n",
    "    \n",
    "\t# Multiply them\n",
    "\tprod = num1 * num2\n",
    "\n",
    "\t# Assertion\n",
    "\tassert prod == 100\n",
    "\n",
    "# Division test\n",
    "@pytest.mark.activity\n",
    "def test_division():\n",
    "  \n",
    "\t# Initialize two numbers\n",
    "\tnum1 = 100\n",
    "\tnum2 = 5\n",
    "    \n",
    "\t# Divide them\n",
    "\tquot = num1 / num2\n",
    "\n",
    "\t# Assertion\n",
    "\tassert quot == 20"
   ]
  },
  {
   "cell_type": "code",
   "execution_count": null,
   "id": "2d6a4d78",
   "metadata": {},
   "outputs": [],
   "source": []
  }
 ],
 "metadata": {
  "kernelspec": {
   "display_name": "Python 3 (ipykernel)",
   "language": "python",
   "name": "python3"
  },
  "language_info": {
   "codemirror_mode": {
    "name": "ipython",
    "version": 3
   },
   "file_extension": ".py",
   "mimetype": "text/x-python",
   "name": "python",
   "nbconvert_exporter": "python",
   "pygments_lexer": "ipython3",
   "version": "3.9.12"
  }
 },
 "nbformat": 4,
 "nbformat_minor": 5
}
